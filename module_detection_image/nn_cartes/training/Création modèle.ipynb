{
 "cells": [
  {
   "cell_type": "markdown",
   "metadata": {},
   "source": [
    "<h1> Reconnaissance de cartes, entraînement </h1>\n"
   ]
  },
  {
   "cell_type": "markdown",
   "metadata": {},
   "source": [
    "<h3>Import des librairies :</h3>"
   ]
  },
  {
   "cell_type": "code",
   "execution_count": 1,
   "metadata": {},
   "outputs": [],
   "source": [
    "import numpy as np\n",
    "import os\n",
    "import PIL\n",
    "import PIL.Image\n",
    "import tensorflow as tf\n",
    "import matplotlib.pyplot as plt\n",
    "import pathlib\n",
    "from tensorflow.keras import layers\n",
    "from tensorflow.keras.models import Sequential, save_model, load_model"
   ]
  },
  {
   "cell_type": "code",
   "execution_count": 2,
   "metadata": {},
   "outputs": [],
   "source": [
    "data_dir = pathlib.Path('../data/train')"
   ]
  },
  {
   "cell_type": "code",
   "execution_count": 3,
   "metadata": {},
   "outputs": [
    {
     "name": "stdout",
     "output_type": "stream",
     "text": [
      "8785\n"
     ]
    }
   ],
   "source": [
    "image_count = len(list(data_dir.glob('*/*.jpg')))\n",
    "print(image_count)"
   ]
  },
  {
   "cell_type": "code",
   "execution_count": 4,
   "metadata": {},
   "outputs": [],
   "source": [
    "batch_size = 32\n",
    "img_height = 280\n",
    "img_width = 220"
   ]
  },
  {
   "cell_type": "markdown",
   "metadata": {},
   "source": [
    "<h3>Création des datasets</h3>\n"
   ]
  },
  {
   "cell_type": "code",
   "execution_count": 15,
   "metadata": {},
   "outputs": [
    {
     "name": "stdout",
     "output_type": "stream",
     "text": [
      "Found 8785 files belonging to 32 classes.\n",
      "Using 7028 files for training.\n"
     ]
    }
   ],
   "source": [
    "train_ds = tf.keras.preprocessing.image_dataset_from_directory(\n",
    "  data_dir,\n",
    "  validation_split=0.2,\n",
    "  subset=\"training\",\n",
    "  seed=123,\n",
    "  image_size=(img_height, img_width),\n",
    "  batch_size=batch_size)"
   ]
  },
  {
   "cell_type": "code",
   "execution_count": 16,
   "metadata": {},
   "outputs": [
    {
     "name": "stdout",
     "output_type": "stream",
     "text": [
      "Found 8785 files belonging to 32 classes.\n",
      "Using 1757 files for validation.\n"
     ]
    }
   ],
   "source": [
    "val_ds = tf.keras.preprocessing.image_dataset_from_directory(\n",
    "  data_dir,\n",
    "  validation_split=0.2,\n",
    "  subset=\"validation\",\n",
    "  seed=123,\n",
    "  image_size=(img_height, img_width),\n",
    "  batch_size=batch_size)"
   ]
  },
  {
   "cell_type": "code",
   "execution_count": 17,
   "metadata": {},
   "outputs": [
    {
     "name": "stdout",
     "output_type": "stream",
     "text": [
      "['10_ca', '10_co', '10_pi', '10_tr', '7_ca', '7_co', '7_pi', '7_tr', '8_ca', '8_co', '8_pi', '8_tr', '9_ca', '9_co', '9_pi', '9_tr', 'A_ca', 'A_co', 'A_pi', 'A_tr', 'D_ca', 'D_co', 'D_pi', 'D_tr', 'J_ca', 'J_co', 'J_pi', 'J_tr', 'K_ca', 'K_co', 'K_pi', 'K_tr']\n",
      "32\n"
     ]
    }
   ],
   "source": [
    "class_names = train_ds.class_names\n",
    "print(class_names)\n",
    "print(len(class_names))"
   ]
  },
  {
   "cell_type": "code",
   "execution_count": 18,
   "metadata": {},
   "outputs": [
    {
     "name": "stdout",
     "output_type": "stream",
     "text": [
      "(32, 280, 220, 3)\n",
      "(32,)\n"
     ]
    }
   ],
   "source": [
    "for image_batch, labels_batch in train_ds:\n",
    "  print(image_batch.shape)\n",
    "  print(labels_batch.shape)\n",
    "  break"
   ]
  },
  {
   "cell_type": "code",
   "execution_count": 19,
   "metadata": {},
   "outputs": [
    {
     "name": "stdout",
     "output_type": "stream",
     "text": [
      "0.0 1.0\n"
     ]
    }
   ],
   "source": [
    "normalization_layer = tf.keras.layers.experimental.preprocessing.Rescaling(1./255)\n",
    "normalized_ds = train_ds.map(lambda x, y: (normalization_layer(x), y))\n",
    "image_batch, labels_batch = next(iter(normalized_ds))\n",
    "first_image = image_batch[28]\n",
    "print(np.min(first_image), np.max(first_image))"
   ]
  },
  {
   "cell_type": "code",
   "execution_count": 20,
   "metadata": {},
   "outputs": [],
   "source": [
    "AUTOTUNE = tf.data.AUTOTUNE\n",
    "\n",
    "train_ds = train_ds.cache().prefetch(buffer_size=AUTOTUNE)\n",
    "val_ds = val_ds.cache().prefetch(buffer_size=AUTOTUNE)"
   ]
  },
  {
   "cell_type": "markdown",
   "metadata": {},
   "source": [
    "<h3>Définition du modèle d'entraînement</h3>"
   ]
  },
  {
   "cell_type": "code",
   "execution_count": 21,
   "metadata": {},
   "outputs": [],
   "source": [
    "num_classes = 32\n",
    "\n",
    "model = tf.keras.Sequential([\n",
    "  layers.experimental.preprocessing.Rescaling(1./255),\n",
    "  layers.Conv2D(32, 3, activation='relu'),\n",
    "  layers.MaxPooling2D(),\n",
    "  layers.Conv2D(32, 3, activation='relu'),\n",
    "  layers.MaxPooling2D(),\n",
    "  layers.Conv2D(32, 3, activation='relu'),\n",
    "  layers.MaxPooling2D(),\n",
    "  layers.Flatten(),\n",
    "  layers.Dense(128, activation='relu'),\n",
    "  layers.Dense(num_classes)\n",
    "])"
   ]
  },
  {
   "cell_type": "code",
   "execution_count": 22,
   "metadata": {},
   "outputs": [],
   "source": [
    "model.compile(\n",
    "  optimizer='Adamax',\n",
    "  loss=tf.losses.SparseCategoricalCrossentropy(from_logits=True),\n",
    "  metrics=['accuracy'])"
   ]
  },
  {
   "cell_type": "markdown",
   "metadata": {},
   "source": [
    "<h3> Entraînement </h3>"
   ]
  },
  {
   "cell_type": "code",
   "execution_count": 23,
   "metadata": {},
   "outputs": [
    {
     "name": "stdout",
     "output_type": "stream",
     "text": [
      "Epoch 1/2\n",
      "220/220 [==============================] - 164s 744ms/step - loss: 1.7838 - accuracy: 0.5116 - val_loss: 0.0588 - val_accuracy: 0.9920\n",
      "Epoch 2/2\n",
      "220/220 [==============================] - 169s 769ms/step - loss: 0.0429 - accuracy: 0.9896 - val_loss: 0.0144 - val_accuracy: 0.9977\n"
     ]
    },
    {
     "data": {
      "text/plain": [
       "<tensorflow.python.keras.callbacks.History at 0x21e8eb84fd0>"
      ]
     },
     "execution_count": 23,
     "metadata": {},
     "output_type": "execute_result"
    }
   ],
   "source": [
    "model.fit(\n",
    "  train_ds,\n",
    "  validation_data=val_ds,\n",
    "  epochs=2\n",
    ")"
   ]
  },
  {
   "cell_type": "code",
   "execution_count": 24,
   "metadata": {},
   "outputs": [
    {
     "name": "stdout",
     "output_type": "stream",
     "text": [
      "INFO:tensorflow:Assets written to: ./saved_model\\assets\n"
     ]
    }
   ],
   "source": [
    "# Sauvegarde du modèle\n",
    "filepath = './saved_model'\n",
    "save_model(model, filepath)"
   ]
  },
  {
   "cell_type": "code",
   "execution_count": 27,
   "metadata": {},
   "outputs": [
    {
     "name": "stdout",
     "output_type": "stream",
     "text": [
      "['8_tr', '8_pi', '8_tr']\n",
      "['K_co', '7_pi', 'J_tr']\n",
      "['A_ca', 'D_ca', '9_co']\n"
     ]
    },
    {
     "data": {
      "image/png": "[encoded data removed]",
      "text/plain": [
       "<Figure size 432x288 with 9 Axes>"
      ]
     },
     "metadata": {
      "needs_background": "light"
     },
     "output_type": "display_data"
    }
   ],
   "source": [
    "# Test du modèle\n",
    "results = []\n",
    "for images, labels in train_ds.take(1):\n",
    "  for i in range(9):\n",
    "    ax = plt.subplot(3, 3, i + 1)\n",
    "    a = model.predict_step(images)\n",
    "    plt.imshow(images[i].numpy().astype(\"uint8\"))\n",
    "    plt.title(class_names[labels[i]])\n",
    "    plt.axis(\"off\")\n",
    "    b = a[i].numpy()\n",
    "    b = predict(b)\n",
    "    results.append(b)\n",
    "    if(i == 2):\n",
    "        print(results)\n",
    "        results = []\n",
    "    if(i == 5):\n",
    "        print(results)\n",
    "        results = []\n",
    "    if(i == 8):\n",
    "        print(results)\n",
    "        results = []\n"
   ]
  },
  {
   "cell_type": "code",
   "execution_count": 26,
   "metadata": {},
   "outputs": [],
   "source": [
    "def predict(b):\n",
    "    indiceMax = 0\n",
    "    Max = b[0]\n",
    "    for i in range(1,32):\n",
    "        if (b[i] > Max):\n",
    "            Max = b[i]\n",
    "            indiceMax = i #Calcul de la probabilité maximale\n",
    "    if (indiceMax == 0):\n",
    "        return('10_ca')\n",
    "    if (indiceMax == 1):\n",
    "        return('10_co')\n",
    "    if (indiceMax == 2):\n",
    "        return('10_pi')\n",
    "    if (indiceMax == 3):\n",
    "        return('10_tr')\n",
    "    if (indiceMax == 4):\n",
    "        return('7_ca')\n",
    "    if (indiceMax == 5):\n",
    "        return('7_co')\n",
    "    if (indiceMax == 6):\n",
    "        return('7_pi')\n",
    "    if (indiceMax == 7):\n",
    "        return('7_tr')\n",
    "    if (indiceMax == 8):\n",
    "        return('8_ca')\n",
    "    if (indiceMax == 9):\n",
    "        return('8_co')\n",
    "    if (indiceMax == 10):\n",
    "        return('8_pi')\n",
    "    if (indiceMax == 11):\n",
    "        return('8_tr')\n",
    "    if (indiceMax == 12):\n",
    "        return('9_ca')\n",
    "    if (indiceMax == 13):\n",
    "        return('9_co')\n",
    "    if (indiceMax == 14):\n",
    "        return('9_pi')\n",
    "    if (indiceMax == 15):\n",
    "        return('9_tr')\n",
    "    if (indiceMax == 16):\n",
    "        return('A_ca')\n",
    "    if (indiceMax == 17):\n",
    "        return('A_co')\n",
    "    if (indiceMax == 18):\n",
    "        return('A_pi')\n",
    "    if (indiceMax == 19):\n",
    "        return('A_tr')\n",
    "    if (indiceMax == 20):\n",
    "        return('D_ca')\n",
    "    if (indiceMax == 21):\n",
    "        return('D_co')\n",
    "    if (indiceMax == 22):\n",
    "        return('D_pi')\n",
    "    if (indiceMax == 23):\n",
    "        return('D_tr')\n",
    "    if (indiceMax == 24):\n",
    "        return('J_ca')\n",
    "    if (indiceMax == 25):\n",
    "        return('J_co')\n",
    "    if (indiceMax == 26):\n",
    "        return('J_pi')\n",
    "    if (indiceMax == 27):\n",
    "        return('J_tr')\n",
    "    if (indiceMax == 28):\n",
    "        return('K_ca')\n",
    "    if (indiceMax == 29):\n",
    "        return('K_co')\n",
    "    if (indiceMax == 30):\n",
    "        return('K_pi')\n",
    "    if (indiceMax == 31):\n",
    "        return('K_tr')\n",
    "    "
   ]
  },
  {
   "cell_type": "code",
   "execution_count": null,
   "metadata": {},
   "outputs": [],
   "source": []
  }
 ],
 "metadata": {
  "kernelspec": {
   "display_name": "Python 3",
   "language": "python",
   "name": "python3"
  },
  "language_info": {
   "codemirror_mode": {
    "name": "ipython",
    "version": 3
   },
   "file_extension": ".py",
   "mimetype": "text/x-python",
   "name": "python",
   "nbconvert_exporter": "python",
   "pygments_lexer": "ipython3",
   "version": "3.8.5"
  }
 },
 "nbformat": 4,
 "nbformat_minor": 4
}
