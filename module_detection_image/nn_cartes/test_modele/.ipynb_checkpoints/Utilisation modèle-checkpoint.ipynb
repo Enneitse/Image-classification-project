{
 "cells": [
  {
   "cell_type": "markdown",
   "metadata": {},
   "source": [
    "<h1> Reconnaissance de cartes, utilisation </h1>\n"
   ]
  },
  {
   "cell_type": "markdown",
   "metadata": {},
   "source": [
    "<h3>Import du modèle :</h3>"
   ]
  },
  {
   "cell_type": "code",
   "execution_count": 7,
   "metadata": {},
   "outputs": [],
   "source": [
    "import numpy as np\n",
    "from tensorflow.keras.models import Sequential, save_model, load_model\n",
    "filepath = './saved_model'\n",
    "import tensorflow as tf"
   ]
  },
  {
   "cell_type": "code",
   "execution_count": 8,
   "metadata": {},
   "outputs": [],
   "source": [
    "model = load_model(filepath, compile = True)"
   ]
  },
  {
   "cell_type": "code",
   "execution_count": 9,
   "metadata": {},
   "outputs": [],
   "source": [
    "from PIL import Image\n",
    "image = Image.open('../data/test/testcarte.jpg')\n",
    "image = image.resize((180,180)) #On met l'image à la taille d'entrée"
   ]
  },
  {
   "cell_type": "code",
   "execution_count": 10,
   "metadata": {},
   "outputs": [],
   "source": [
    "pixels = []\n",
    "ligne= []\n",
    "px = image.load()\n",
    "\n",
    "for i in range(180):\n",
    "    \n",
    "    for j in range(180):\n",
    "        \n",
    "        ligne.append(px[j,i])\n",
    "        \n",
    "    pixels.append(ligne)\n",
    "    ligne = []\n",
    "    \n",
    "input = tf.convert_to_tensor(pixels)\n",
    "# On transforme l'image en un tenseur compréhensible par le modèle"
   ]
  },
  {
   "cell_type": "code",
   "execution_count": 11,
   "metadata": {},
   "outputs": [],
   "source": [
    "input = np.expand_dims(input, axis=0) #On adapte l'entrée au modèle\n",
    "prediction = model.predict(input)\n"
   ]
  },
  {
   "cell_type": "code",
   "execution_count": 15,
   "metadata": {
    "scrolled": true
   },
   "outputs": [
    {
     "data": {
      "text/plain": [
       "'A_co'"
      ]
     },
     "execution_count": 15,
     "metadata": {},
     "output_type": "execute_result"
    }
   ],
   "source": [
    "predict(prediction[0])"
   ]
  },
  {
   "cell_type": "code",
   "execution_count": 13,
   "metadata": {},
   "outputs": [],
   "source": [
    "def indiceMax(numpyArray):\n",
    "    iMax = 0\n",
    "    vMax = numpyArray[0][0]\n",
    "    for i in range(1,32):\n",
    "        if (numpyArray[0][i] > vMax):\n",
    "            iMax = i\n",
    "            vMax = numpyArray[0][i]\n",
    "    return iMax"
   ]
  },
  {
   "cell_type": "code",
   "execution_count": 14,
   "metadata": {},
   "outputs": [],
   "source": [
    "def predict(b):\n",
    "    indiceMax = 0\n",
    "    Max = b[0]\n",
    "    for i in range(1,32):\n",
    "        if (b[i] > Max):\n",
    "            Max = b[i]\n",
    "            indiceMax = i\n",
    "    if (indiceMax == 0):\n",
    "        return('10_ca')\n",
    "    if (indiceMax == 1):\n",
    "        return('10_co')\n",
    "    if (indiceMax == 2):\n",
    "        return('10_pi')\n",
    "    if (indiceMax == 3):\n",
    "        return('10_tr')\n",
    "    if (indiceMax == 4):\n",
    "        return('7_ca')\n",
    "    if (indiceMax == 5):\n",
    "        return('7_co')\n",
    "    if (indiceMax == 6):\n",
    "        return('7_pi')\n",
    "    if (indiceMax == 7):\n",
    "        return('7_tr')\n",
    "    if (indiceMax == 8):\n",
    "        return('8_ca')\n",
    "    if (indiceMax == 9):\n",
    "        return('8_co')\n",
    "    if (indiceMax == 10):\n",
    "        return('8_pi')\n",
    "    if (indiceMax == 11):\n",
    "        return('8_tr')\n",
    "    if (indiceMax == 12):\n",
    "        return('9_ca')\n",
    "    if (indiceMax == 13):\n",
    "        return('9_co')\n",
    "    if (indiceMax == 14):\n",
    "        return('9_pi')\n",
    "    if (indiceMax == 15):\n",
    "        return('9_tr')\n",
    "    if (indiceMax == 16):\n",
    "        return('A_ca')\n",
    "    if (indiceMax == 17):\n",
    "        return('A_co')\n",
    "    if (indiceMax == 18):\n",
    "        return('A_pi')\n",
    "    if (indiceMax == 19):\n",
    "        return('A_tr')\n",
    "    if (indiceMax == 20):\n",
    "        return('D_ca')\n",
    "    if (indiceMax == 21):\n",
    "        return('D_co')\n",
    "    if (indiceMax == 22):\n",
    "        return('D_pi')\n",
    "    if (indiceMax == 23):\n",
    "        return('D_tr')\n",
    "    if (indiceMax == 24):\n",
    "        return('J_ca')\n",
    "    if (indiceMax == 25):\n",
    "        return('J_co')\n",
    "    if (indiceMax == 26):\n",
    "        return('J_pi')\n",
    "    if (indiceMax == 27):\n",
    "        return('J_tr')\n",
    "    if (indiceMax == 28):\n",
    "        return('K_ca')\n",
    "    if (indiceMax == 29):\n",
    "        return('K_co')\n",
    "    if (indiceMax == 30):\n",
    "        return('K_pi')\n",
    "    if (indiceMax == 31):\n",
    "        return('K_tr')\n",
    "    "
   ]
  }
 ],
 "metadata": {
  "kernelspec": {
   "display_name": "Python 3",
   "language": "python",
   "name": "python3"
  },
  "language_info": {
   "codemirror_mode": {
    "name": "ipython",
    "version": 3
   },
   "file_extension": ".py",
   "mimetype": "text/x-python",
   "name": "python",
   "nbconvert_exporter": "python",
   "pygments_lexer": "ipython3",
   "version": "3.8.5"
  }
 },
 "nbformat": 4,
 "nbformat_minor": 4
}
