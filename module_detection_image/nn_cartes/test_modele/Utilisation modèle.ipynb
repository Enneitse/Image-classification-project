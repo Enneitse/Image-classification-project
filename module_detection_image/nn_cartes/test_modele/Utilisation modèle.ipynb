{
 "cells": [
  {
   "cell_type": "markdown",
   "metadata": {},
   "source": [
    "<h1> Reconnaissance de cartes, utilisation </h1>\n"
   ]
  },
  {
   "cell_type": "markdown",
   "metadata": {},
   "source": [
    "<h3>Import du modèle :</h3>"
   ]
  },
  {
   "cell_type": "code",
   "execution_count": 6,
   "metadata": {},
   "outputs": [],
   "source": [
    "import numpy as np\n",
    "from tensorflow.keras.models import Sequential, save_model, load_model\n",
    "filepath = './saved_model'\n",
    "import tensorflow as tf\n",
    "from PIL import Image\n",
    "model = load_model(filepath, compile = True)"
   ]
  },
  {
   "cell_type": "markdown",
   "metadata": {},
   "source": [
    "<h2>Définition des classes à renvoyer</h2>"
   ]
  },
  {
   "cell_type": "code",
   "execution_count": 7,
   "metadata": {},
   "outputs": [],
   "source": [
    "def predict0(b):\n",
    "    indiceMax = 0\n",
    "    Max = b[0]\n",
    "    for i in range(1,32):\n",
    "        if (b[i] > Max):\n",
    "            Max = b[i]\n",
    "            indiceMax = i\n",
    "    if (indiceMax == 0):\n",
    "        return('0D')\n",
    "    if (indiceMax == 1):\n",
    "        return('0H')\n",
    "    if (indiceMax == 2):\n",
    "        return('0S')\n",
    "    if (indiceMax == 3):\n",
    "        return('0C')\n",
    "    if (indiceMax == 4):\n",
    "        return('7D')\n",
    "    if (indiceMax == 5):\n",
    "        return('7H')\n",
    "    if (indiceMax == 6):\n",
    "        return('7S')\n",
    "    if (indiceMax == 7):\n",
    "        return('7C')\n",
    "    if (indiceMax == 8):\n",
    "        return('8D')\n",
    "    if (indiceMax == 9):\n",
    "        return('8H')\n",
    "    if (indiceMax == 10):\n",
    "        return('8S')\n",
    "    if (indiceMax == 11):\n",
    "        return('8C')\n",
    "    if (indiceMax == 12):\n",
    "        return('9D')\n",
    "    if (indiceMax == 13):\n",
    "        return('9H')\n",
    "    if (indiceMax == 14):\n",
    "        return('9S')\n",
    "    if (indiceMax == 15):\n",
    "        return('9C')\n",
    "    if (indiceMax == 16):\n",
    "        return('1D')\n",
    "    if (indiceMax == 17):\n",
    "        return('1H')\n",
    "    if (indiceMax == 18):\n",
    "        return('1S')\n",
    "    if (indiceMax == 19):\n",
    "        return('1C')\n",
    "    if (indiceMax == 20):\n",
    "        return('QD')\n",
    "    if (indiceMax == 21):\n",
    "        return('QH')\n",
    "    if (indiceMax == 22):\n",
    "        return('QS')\n",
    "    if (indiceMax == 23):\n",
    "        return('QC')\n",
    "    if (indiceMax == 24):\n",
    "        return('JD')\n",
    "    if (indiceMax == 25):\n",
    "        return('JH')\n",
    "    if (indiceMax == 26):\n",
    "        return('JS')\n",
    "    if (indiceMax == 27):\n",
    "        return('JC')\n",
    "    if (indiceMax == 28):\n",
    "        return('KD')\n",
    "    if (indiceMax == 29):\n",
    "        return('KH')\n",
    "    if (indiceMax == 30):\n",
    "        return('KS')\n",
    "    if (indiceMax == 31):\n",
    "        return('KC')"
   ]
  },
  {
   "cell_type": "markdown",
   "metadata": {},
   "source": [
    "Fonction de traitement de l'image"
   ]
  },
  {
   "cell_type": "code",
   "execution_count": 8,
   "metadata": {},
   "outputs": [],
   "source": [
    "def predict(chemin_carte):\n",
    "    image = Image.open(chemin_carte)\n",
    "    \n",
    "    pixels = []\n",
    "    ligne= []\n",
    "    px = image.load()\n",
    "\n",
    "    for i in range(280):\n",
    "    \n",
    "        for j in range(220):\n",
    "        \n",
    "            ligne.append(px[j,i])\n",
    "        \n",
    "        pixels.append(ligne)\n",
    "        ligne = []\n",
    "    \n",
    "    input = tf.convert_to_tensor(pixels) # On transforme l'image en un tenseur compréhensible par le modèle\n",
    "    \n",
    "    input = np.expand_dims(input, axis=0) #On adapte l'entrée au modèle\n",
    "    \n",
    "    prediction = model.predict(input)\n",
    "    \n",
    "    prediction = predict0(prediction[0])\n",
    "    print(prediction)\n",
    "    image.show()\n",
    "    return prediction\n",
    "    "
   ]
  },
  {
   "cell_type": "code",
   "execution_count": 9,
   "metadata": {},
   "outputs": [
    {
     "name": "stdout",
     "output_type": "stream",
     "text": [
      "KD\n"
     ]
    },
    {
     "data": {
      "text/plain": [
       "'KD'"
      ]
     },
     "execution_count": 9,
     "metadata": {},
     "output_type": "execute_result"
    }
   ],
   "source": [
    "chemin_carte = '../data/test/K_ca_1.jpg'\n",
    "predict(chemin_carte)"
   ]
  }
 ],
 "metadata": {
  "kernelspec": {
   "display_name": "Python 3",
   "language": "python",
   "name": "python3"
  },
  "language_info": {
   "codemirror_mode": {
    "name": "ipython",
    "version": 3
   },
   "file_extension": ".py",
   "mimetype": "text/x-python",
   "name": "python",
   "nbconvert_exporter": "python",
   "pygments_lexer": "ipython3",
   "version": "3.8.5"
  }
 },
 "nbformat": 4,
 "nbformat_minor": 4
}
